{
 "cells": [
  {
   "cell_type": "code",
   "execution_count": 1,
   "id": "4810ada9",
   "metadata": {},
   "outputs": [],
   "source": [
    "import json\n",
    "import numpy as np\n",
    "from PIL import Image\n",
    "from matplotlib import image\n",
    "from matplotlib import pyplot\n",
    "from pathlib import Path\n",
    "import torchaudio\n",
    "import IPython.display as ipd\n",
    "from tqdm import tqdm"
   ]
  },
  {
   "cell_type": "code",
   "execution_count": 2,
   "id": "95703a88",
   "metadata": {},
   "outputs": [],
   "source": [
    "key = np.load(Path(\"data/image_class_key.npz\"), allow_pickle=True)['key'].item()"
   ]
  },
  {
   "cell_type": "code",
   "execution_count": 3,
   "id": "6d9e9668",
   "metadata": {},
   "outputs": [
    {
     "name": "stdout",
     "output_type": "stream",
     "text": [
      "accordion accordion\n",
      "airplanes airplane\n",
      "anchor anchor\n",
      "ant ant\n",
      "barrel barrel\n",
      "bass bass\n",
      "beaver beaver\n",
      "binocular binocular\n",
      "bonsai bonsai\n",
      "brain brain\n",
      "brontosaurus dinosaur\n",
      "buddha buddha\n",
      "butterfly butterfly\n",
      "camera camera\n",
      "cannon cannon\n",
      "car_side car\n",
      "ceiling_fan fan\n",
      "cellphone cellphone\n",
      "chair chair\n",
      "chandelier chandelier\n",
      "cougar_body cougar\n",
      "cougar_face cougar\n",
      "crab crab\n",
      "crayfish crayfish\n",
      "crocodile crocodile\n",
      "crocodile_head crocodile\n",
      "cup cup\n",
      "dalmatian dalmatian\n",
      "dollar_bill bill\n",
      "dolphin dolphin\n",
      "dragonfly dragonfly\n",
      "electric_guitar guitar\n",
      "elephant elephant\n",
      "emu emu\n",
      "euphonium trumpet\n",
      "ewer ewer\n",
      "faces face\n",
      "faces_easy face\n",
      "ferry ferry\n",
      "flamingo flamingo\n",
      "flamingo_head flamingo\n",
      "garfield garfield\n",
      "gerenuk buck\n",
      "gramophone gramophone\n",
      "grand_piano piano\n",
      "hawksbill hawksbill\n",
      "headphone headphone\n",
      "hedgehog hedgehog\n",
      "helicopter helicopter\n",
      "ibis bird\n",
      "inline_skate skate\n",
      "joshua_tree tree\n",
      "kangaroo kangaroo\n",
      "ketch boat\n",
      "lamp lamp\n",
      "laptop laptop\n",
      "leopards leopard\n",
      "llama llama\n",
      "lobster lobster\n",
      "lotus lilly\n",
      "mandolin mandolin\n",
      "mayfly mayfly\n",
      "menorah menorah\n",
      "metronome metronome\n",
      "minaret tower\n",
      "motorbikes motorbike\n",
      "nautilus nautilus\n",
      "octopus octopus\n",
      "okapi okapi\n",
      "pagoda pagoda\n",
      "panda panda\n",
      "pigeon pigeon\n",
      "pizza pizza\n",
      "platypus platypus\n",
      "pyramid pyramid\n",
      "revolver revolver\n",
      "rhino rhino\n",
      "rooster rooster\n",
      "saxophone saxophone\n",
      "schooner boat\n",
      "scissors scissors\n",
      "scorpion scorpion\n",
      "sea_horse sea_horse\n",
      "snoopy snoopy\n",
      "soccer_ball ball\n",
      "stapler stapler\n",
      "starfish starfish\n",
      "stegosaurus dinosaur\n",
      "stop_sign stop_sign\n",
      "strawberry strawberry\n",
      "sunflower sunflower\n",
      "tick tick\n",
      "trilobite trilobite\n",
      "umbrella umbrella\n",
      "watch watch\n",
      "water_lilly lilly\n",
      "wheelchair wheelchair\n",
      "wild_cat cat\n",
      "windsor_chair chair\n",
      "wrench wrench\n",
      "yin_yang yin_yang\n"
     ]
    }
   ],
   "source": [
    "for a in sorted(key):\n",
    "    print(a, key[a])"
   ]
  },
  {
   "cell_type": "code",
   "execution_count": 4,
   "id": "603ec2cc",
   "metadata": {},
   "outputs": [
    {
     "name": "stdout",
     "output_type": "stream",
     "text": [
      "True\n"
     ]
    },
    {
     "name": "stderr",
     "output_type": "stream",
     "text": [
      "0it [00:02, ?it/s]"
     ]
    },
    {
     "name": "stdout",
     "output_type": "stream",
     "text": [
      "/home/leannenortje/Datasets/SpokenCOCO/val2014/COCO_val2014_000000161602.jpg\n"
     ]
    },
    {
     "name": "stderr",
     "output_type": "stream",
     "text": [
      "\n"
     ]
    }
   ],
   "source": [
    "coco_fn = Path('/home/leannenortje/Datasets/SpokenCOCO')\n",
    "print(coco_fn.is_dir())\n",
    "\n",
    "coco_image_names = []\n",
    "for img_fn in tqdm(coco_fn.rglob('**/*.jpg')):\n",
    "#     coco_image_names.append(img_fn.stem)\n",
    "    print(img_fn)\n",
    "    break"
   ]
  },
  {
   "cell_type": "code",
   "execution_count": 5,
   "id": "57a70700",
   "metadata": {},
   "outputs": [
    {
     "name": "stdout",
     "output_type": "stream",
     "text": [
      "True\n",
      "soccer_ball\n",
      "soccer_ball\n",
      "soccer_ball\n",
      "soccer_ball\n",
      "soccer_ball\n",
      "soccer_ball\n",
      "soccer_ball\n",
      "soccer_ball\n",
      "soccer_ball\n",
      "soccer_ball\n",
      "soccer_ball\n",
      "soccer_ball\n",
      "soccer_ball\n",
      "soccer_ball\n",
      "soccer_ball\n",
      "soccer_ball\n",
      "soccer_ball\n",
      "soccer_ball\n",
      "soccer_ball\n",
      "soccer_ball\n",
      "soccer_ball\n",
      "soccer_ball\n",
      "soccer_ball\n",
      "soccer_ball\n",
      "soccer_ball\n",
      "soccer_ball\n",
      "soccer_ball\n",
      "soccer_ball\n",
      "soccer_ball\n",
      "soccer_ball\n",
      "soccer_ball\n",
      "soccer_ball\n",
      "soccer_ball\n",
      "soccer_ball\n",
      "soccer_ball\n",
      "soccer_ball\n",
      "soccer_ball\n",
      "soccer_ball\n",
      "soccer_ball\n",
      "soccer_ball\n",
      "soccer_ball\n",
      "soccer_ball\n",
      "soccer_ball\n",
      "soccer_ball\n",
      "soccer_ball\n",
      "soccer_ball\n",
      "soccer_ball\n",
      "soccer_ball\n",
      "soccer_ball\n",
      "soccer_ball\n",
      "soccer_ball\n",
      "soccer_ball\n",
      "soccer_ball\n",
      "soccer_ball\n",
      "soccer_ball\n",
      "soccer_ball\n",
      "soccer_ball\n",
      "soccer_ball\n",
      "soccer_ball\n",
      "soccer_ball\n",
      "soccer_ball\n",
      "soccer_ball\n",
      "soccer_ball\n",
      "soccer_ball\n"
     ]
    }
   ],
   "source": [
    "caltech_fn = Path('/media/leannenortje/HDD/Datasets/caltech-101')\n",
    "print(caltech_fn.is_dir())\n",
    "\n",
    "caltech_image_names = []\n",
    "for img_fn in caltech_fn.rglob('**/*.jpg'):\n",
    "#     caltech_image_names.append(img_fn.stem)\n",
    "    if img_fn.parent.stem.lower() not in key: continue\n",
    "    c = key[img_fn.parent.stem.lower()]\n",
    "    num = int(img_fn.stem.split('_')[-1])\n",
    "    caltech_image_names.append(f'{c}_{num}')\n",
    "    if key[img_fn.parent.stem.lower()] == 'ball': print(img_fn.parent.stem.lower())"
   ]
  },
  {
   "cell_type": "code",
   "execution_count": 6,
   "id": "75a8bd5d",
   "metadata": {},
   "outputs": [],
   "source": [
    "# coco_image_names[0]"
   ]
  },
  {
   "cell_type": "code",
   "execution_count": 7,
   "id": "1e684d0b",
   "metadata": {},
   "outputs": [
    {
     "data": {
      "text/plain": [
       "'fan_46'"
      ]
     },
     "execution_count": 7,
     "metadata": {},
     "output_type": "execute_result"
    }
   ],
   "source": [
    "caltech_image_names[0]"
   ]
  },
  {
   "cell_type": "code",
   "execution_count": 8,
   "id": "77b2432e",
   "metadata": {},
   "outputs": [],
   "source": [
    "classes = set()\n",
    "with open(Path('data/unseen.txt'), 'r') as f:\n",
    "    for line in f:\n",
    "        classes.add(line.strip())\n",
    "        \n",
    "with open(Path('data/seen.txt'), 'r') as f:\n",
    "    for line in f:\n",
    "        classes.add(line.strip())"
   ]
  },
  {
   "cell_type": "code",
   "execution_count": 9,
   "id": "06499cf5",
   "metadata": {},
   "outputs": [],
   "source": [
    "dataset = np.load(Path(\"data/english_me_dataset.npz\"), allow_pickle=True)['dataset'].item()"
   ]
  },
  {
   "cell_type": "code",
   "execution_count": 10,
   "id": "85323bd0",
   "metadata": {},
   "outputs": [],
   "source": [
    "caltech_counts = {}\n",
    "coco_counts = {}\n",
    "imagenet_counts = {}\n",
    "for c in dataset:\n",
    "    if c in classes:\n",
    "        for img_fn in dataset[c]['images']:\n",
    "            if img_fn.stem in caltech_image_names:\n",
    "                c = img_fn.stem.split('_')[0]\n",
    "                if c not in caltech_counts: caltech_counts[c] = 0\n",
    "                caltech_counts[c] += 1\n",
    "            elif len(img_fn.stem.split('_')) == 2:\n",
    "                c = img_fn.stem.split('_')[0]\n",
    "                if c not in coco_counts: coco_counts[c] = 0\n",
    "                coco_counts[c] += 1\n",
    "                \n",
    "            elif len(img_fn.stem.split('_')) == 3:\n",
    "                c = img_fn.stem.split('_')[0]\n",
    "                if c not in imagenet_counts: imagenet_counts[c] = 0\n",
    "                imagenet_counts[c] += 1"
   ]
  },
  {
   "cell_type": "code",
   "execution_count": 11,
   "id": "161931dc",
   "metadata": {},
   "outputs": [
    {
     "name": "stdout",
     "output_type": "stream",
     "text": [
      "ball 64\n",
      "barrel 47\n",
      "bird 80\n",
      "boat 177\n",
      "buck 34\n",
      "butterfly 91\n",
      "camera 50\n",
      "cannon 43\n",
      "car 123\n",
      "cat 34\n",
      "chair 118\n",
      "cup 57\n",
      "elephant 64\n",
      "fan 47\n",
      "guitar 75\n",
      "lamp 61\n",
      "nautilus 55\n",
      "piano 99\n",
      "revolver 82\n",
      "scissors 39\n",
      "trumpet 64\n",
      "umbrella 75\n"
     ]
    }
   ],
   "source": [
    "for c in caltech_counts:\n",
    "    print(c, caltech_counts[c])"
   ]
  },
  {
   "cell_type": "code",
   "execution_count": 12,
   "id": "a5740934",
   "metadata": {},
   "outputs": [
    {
     "name": "stdout",
     "output_type": "stream",
     "text": [
      "bear 49\n",
      "bench 232\n",
      "bird 125\n",
      "boat 121\n",
      "bus 184\n",
      "cake 123\n",
      "car 532\n",
      "cat 180\n",
      "chair 577\n",
      "clock 204\n",
      "cow 86\n",
      "cup 382\n",
      "dog 176\n",
      "elephant 89\n",
      "fork 155\n",
      "horse 128\n",
      "scissors 28\n",
      "sheep 65\n",
      "toilet 149\n",
      "umbrella 174\n"
     ]
    }
   ],
   "source": [
    "for c in coco_counts:\n",
    "    print(c, coco_counts[c])"
   ]
  },
  {
   "cell_type": "code",
   "execution_count": 13,
   "id": "a3c95304",
   "metadata": {},
   "outputs": [
    {
     "name": "stdout",
     "output_type": "stream",
     "text": [
      "ball 3842\n",
      "barrel 1640\n",
      "bear 4687\n",
      "bench 506\n",
      "bird 488\n",
      "boat 1042\n",
      "bus 571\n",
      "butterfly 3432\n",
      "camera 1052\n",
      "cannon 618\n",
      "car 5027\n",
      "cat 3909\n",
      "chair 1616\n",
      "clock 1398\n",
      "cup 1014\n",
      "dog 7526\n",
      "elephant 1111\n",
      "fan 509\n",
      "guitar 888\n",
      "horse 1511\n",
      "lamp 1366\n",
      "nautilus 467\n",
      "piano 1469\n",
      "revolver 426\n",
      "sheep 1037\n",
      "toilet 947\n",
      "trumpet 506\n",
      "umbrella 573\n"
     ]
    }
   ],
   "source": [
    "for c in imagenet_counts:\n",
    "    print(c, imagenet_counts[c])"
   ]
  },
  {
   "cell_type": "code",
   "execution_count": 14,
   "id": "390d9003",
   "metadata": {},
   "outputs": [
    {
     "name": "stdout",
     "output_type": "stream",
     "text": [
      "ball 3906\n",
      "barrel 1687\n",
      "bear 4736\n",
      "bench 738\n",
      "bird 693\n",
      "boat 1340\n",
      "buck 34\n",
      "bus 755\n",
      "butterfly 3523\n",
      "cake 123\n",
      "camera 1102\n",
      "cannon 661\n",
      "car 5682\n",
      "cat 4123\n",
      "chair 2311\n",
      "clock 1602\n",
      "cow 86\n",
      "cup 1453\n",
      "dog 7702\n",
      "elephant 1264\n",
      "fan 556\n",
      "fork 155\n",
      "guitar 963\n",
      "horse 1639\n",
      "lamp 1427\n",
      "nautilus 522\n",
      "piano 1568\n",
      "revolver 508\n",
      "scissors 67\n",
      "sheep 1102\n",
      "toilet 1096\n",
      "trumpet 570\n",
      "umbrella 822\n"
     ]
    }
   ],
   "source": [
    "for c in dataset:\n",
    "    if c in classes:\n",
    "        print(c, len(dataset[c]['images']))#, len(dataset[c]['audio']))"
   ]
  },
  {
   "cell_type": "code",
   "execution_count": null,
   "id": "7dfac5b1",
   "metadata": {},
   "outputs": [],
   "source": []
  }
 ],
 "metadata": {
  "kernelspec": {
   "display_name": "Python 3 (ipykernel)",
   "language": "python",
   "name": "python3"
  },
  "language_info": {
   "codemirror_mode": {
    "name": "ipython",
    "version": 3
   },
   "file_extension": ".py",
   "mimetype": "text/x-python",
   "name": "python",
   "nbconvert_exporter": "python",
   "pygments_lexer": "ipython3",
   "version": "3.9.12"
  }
 },
 "nbformat": 4,
 "nbformat_minor": 5
}
