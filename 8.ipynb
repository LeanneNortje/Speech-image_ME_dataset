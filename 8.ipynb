{
 "cells": [
  {
   "cell_type": "code",
   "execution_count": null,
   "id": "e1a3b3ed",
   "metadata": {},
   "outputs": [],
   "source": [
    "import json\n",
    "import numpy as np\n",
    "from PIL import Image\n",
    "from matplotlib import image\n",
    "from matplotlib import pyplot\n",
    "from pathlib import Path\n",
    "import torchaudio\n",
    "import IPython.display as ipd"
   ]
  },
  {
   "cell_type": "code",
   "execution_count": null,
   "id": "41c09a09",
   "metadata": {},
   "outputs": [],
   "source": [
    "def test_image_sample(im, orig, name):\n",
    "    \n",
    "    fig = pyplot.figure(figsize=(10, 5))\n",
    "    fig.add_subplot(1, 2, 1)\n",
    "    this_im = Image.open(im)\n",
    "    pyplot.imshow(this_im)\n",
    "    pyplot.yticks([])\n",
    "    pyplot.xticks([])\n",
    "    pyplot.title(name)\n",
    "#     pyplot.show()\n",
    "    fig.add_subplot(1, 2, 2)\n",
    "    this_im = Image.open(orig)\n",
    "    pyplot.imshow(this_im)\n",
    "    pyplot.yticks([])\n",
    "    pyplot.xticks([])\n",
    "    pyplot.title(f'Original: {name}')\n",
    "    pyplot.show()\n",
    "    choice = input()\n",
    "    \n",
    "    while choice not in ['y', 'n']:\n",
    "        choice = input()\n",
    "    pyplot.close()\n",
    "    return choice"
   ]
  },
  {
   "cell_type": "code",
   "execution_count": null,
   "id": "9a65fd01",
   "metadata": {},
   "outputs": [],
   "source": [
    "dataset = np.load(Path(\"data/splited_me_dataset.npz\"), allow_pickle=True)\n",
    "test = dataset['test'].item()\n",
    "unseen_test = dataset['unseen_test'].item()"
   ]
  },
  {
   "cell_type": "code",
   "execution_count": null,
   "id": "f8696d0e",
   "metadata": {},
   "outputs": [],
   "source": [
    "print(unseen_test.keys())"
   ]
  },
  {
   "cell_type": "code",
   "execution_count": null,
   "id": "a906adb5",
   "metadata": {},
   "outputs": [],
   "source": [
    "seen_classes = []\n",
    "with open(Path('data/seen.txt'), 'r') as f:\n",
    "    for line in f:\n",
    "        seen_classes.append(line.strip())\n",
    "# seen_classes = seen_classes[0:33]"
   ]
  },
  {
   "cell_type": "code",
   "execution_count": null,
   "id": "9f9ee756",
   "metadata": {},
   "outputs": [],
   "source": [
    "print(seen_classes)"
   ]
  },
  {
   "cell_type": "code",
   "execution_count": null,
   "id": "78bb978f",
   "metadata": {},
   "outputs": [],
   "source": [
    "unseen_classes = []\n",
    "with open(Path('data/unseen.txt'), 'r') as f:\n",
    "    for line in f:\n",
    "        unseen_classes.append(line.strip())\n",
    "# seen_classes = seen_classes[0:33]"
   ]
  },
  {
   "cell_type": "code",
   "execution_count": null,
   "id": "c761bac4",
   "metadata": {},
   "outputs": [],
   "source": [
    "print(unseen_classes)"
   ]
  },
  {
   "cell_type": "code",
   "execution_count": null,
   "id": "d2bd47f8",
   "metadata": {},
   "outputs": [],
   "source": [
    "unseen_filtered_images = {}\n",
    "for c in unseen_classes:\n",
    "    for im in unseen_test[c]['images']:\n",
    "        name = '_'.join(str(im).split('_')[1:])\n",
    "        fn = im.parent / Path(f'{c}_masked_{name}')\n",
    "        if fn.is_file():\n",
    "            print(im, fn)\n",
    "            choice = test_image_sample(fn, im, c)\n",
    "            if choice == 'y': \n",
    "                if c not in unseen_filtered_images: unseen_filtered_images[c] = []\n",
    "                unseen_filtered_images[c].append(fn)"
   ]
  },
  {
   "cell_type": "code",
   "execution_count": null,
   "id": "0bede7dc",
   "metadata": {},
   "outputs": [],
   "source": [
    "len(unseen_filtered_images)"
   ]
  },
  {
   "cell_type": "code",
   "execution_count": null,
   "id": "d890758e",
   "metadata": {},
   "outputs": [],
   "source": [
    "for c in unseen_filtered_images:\n",
    "    print(c, len(unseen_filtered_images[c]))"
   ]
  },
  {
   "cell_type": "code",
   "execution_count": null,
   "id": "c3977b78",
   "metadata": {},
   "outputs": [],
   "source": [
    "np.savez_compressed(\n",
    "    Path(\"data/images_for_test_episodes\"), \n",
    "    images=unseen_filtered_images\n",
    "    )"
   ]
  },
  {
   "cell_type": "code",
   "execution_count": null,
   "id": "326cda69",
   "metadata": {},
   "outputs": [],
   "source": []
  }
 ],
 "metadata": {
  "kernelspec": {
   "display_name": "Python 3 (ipykernel)",
   "language": "python",
   "name": "python3"
  },
  "language_info": {
   "codemirror_mode": {
    "name": "ipython",
    "version": 3
   },
   "file_extension": ".py",
   "mimetype": "text/x-python",
   "name": "python",
   "nbconvert_exporter": "python",
   "pygments_lexer": "ipython3",
   "version": "3.9.12"
  }
 },
 "nbformat": 4,
 "nbformat_minor": 5
}
